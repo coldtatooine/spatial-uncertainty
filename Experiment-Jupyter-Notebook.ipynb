{
 "cells": [
  {
   "cell_type": "code",
   "execution_count": 1,
   "id": "medium-melissa",
   "metadata": {
    "tags": []
   },
   "outputs": [],
   "source": [
    "# Import Libs\n",
    "import pandas as pd\n",
    "pd.__version__\n",
    "import numpy as np\n",
    "import matplotlib.pyplot as plt\n",
    "from math import floor"
   ]
  },
  {
   "cell_type": "code",
   "execution_count": 2,
   "id": "spatial-grant",
   "metadata": {},
   "outputs": [],
   "source": [
    "# Miscellaneous\n",
    "def color(r, g, b, text):\n",
    "    return \"\\033[38;2;{};{};{}m{} \\033[38;2;255;255;255m\".format(r, g, b, text)"
   ]
  },
  {
   "cell_type": "code",
   "execution_count": 3,
   "id": "immediate-reservation",
   "metadata": {
    "tags": []
   },
   "outputs": [],
   "source": [
    "#<<<--------------------------- PRESETS --------------------------->>>\n",
    "#-----------------------------------------------------------------\n",
    "exp_name = 'global-07' #Experiment name <<< EDIT\n",
    "#-----------------------------------------------------------------\n",
    "filter_by_states = ['Minas Gerais'] #State filter <<< EDIT\n",
    "#-----------------------------------------------------------------\n"
   ]
  },
  {
   "cell_type": "code",
   "execution_count": 4,
   "id": "ideal-fitness",
   "metadata": {
    "tags": []
   },
   "outputs": [
    {
     "name": "stdout",
     "output_type": "stream",
     "text": [
      "---------------------------------------------------------------- Loaded!\n"
     ]
    }
   ],
   "source": [
    "#<<<--------------------------- READ DATASET --------------------------->>>\n",
    "#main_df = pd.read_csv(\"/Users/alessandro.lima/Documents/Personal/Master of Science/Research/git/spatial-uncertainty/preciptation_generated.csv\") #Load dataframe\n",
    "main_df = pd.read_csv(\"experiment_dataset_global-07-TEMP1.csv\") #Load dataframe\n",
    "pd.options.display.float_format = '{:,.4f}'.format\n",
    "#main_df.info()\n",
    "print('---------------------------------------------------------------- Loaded!')\n",
    "#print(main_df)\n",
    "replacable_main_df = main_df #Temp dataframe"
   ]
  },
  {
   "cell_type": "code",
   "execution_count": 5,
   "id": "featured-karaoke",
   "metadata": {
    "tags": []
   },
   "outputs": [
    {
     "name": "stdout",
     "output_type": "stream",
     "text": [
      "       index  Unnamed: 0  Unnamed: 0.1    UserId Probability         State  \\\n",
      "0          0           0             0  51790442      0,0034  Minas Gerais   \n",
      "1          1           1             1  47323612      0,0010  Minas Gerais   \n",
      "2          2           2             2  10853796      0,9988  Minas Gerais   \n",
      "3          3           3             3  39355792      0,0091  Minas Gerais   \n",
      "4          4           4             4  32592734      0,0002  Minas Gerais   \n",
      "...      ...         ...           ...       ...         ...           ...   \n",
      "14801  57728       57728         57728  42854509      0,0163  Minas Gerais   \n",
      "14802  57729       57729         57729   2968897      0,0272  Minas Gerais   \n",
      "14803  57730       57730         57730  24110233      0,0006  Minas Gerais   \n",
      "14804  57731       57731         57731  18513315      0,0327  Minas Gerais   \n",
      "14805  57732       57732         57732  18617761      0,5746  Minas Gerais   \n",
      "\n",
      "        Region  Prec_Prob  \n",
      "0      Sudeste     0.5768  \n",
      "1      Sudeste     0.7191  \n",
      "2      Sudeste     0.8986  \n",
      "3      Sudeste     0.6240  \n",
      "4      Sudeste     0.5284  \n",
      "...        ...        ...  \n",
      "14801  Sudeste     0.8074  \n",
      "14802  Sudeste     0.4691  \n",
      "14803  Sudeste     0.7669  \n",
      "14804  Sudeste     0.9928  \n",
      "14805  Sudeste     0.7903  \n",
      "\n",
      "[14806 rows x 8 columns]\n"
     ]
    }
   ],
   "source": [
    "#RESET STATE INDEX\n",
    "reset_state_index = main_df.query('State in @filter_by_states').reset_index()\n",
    "state_df = reset_state_index\n",
    "print(state_df)"
   ]
  },
  {
   "cell_type": "code",
   "execution_count": 6,
   "id": "ranging-stopping",
   "metadata": {},
   "outputs": [
    {
     "name": "stdout",
     "output_type": "stream",
     "text": [
      "\u001b[38;2;255;0;255m↓ Filter size \u001b[38;2;255;255;255m\n",
      "\u001b[38;2;255;0;255m14806 \u001b[38;2;255;255;255m\n",
      "\u001b[38;2;0;0;255m↓ Percentil size \u001b[38;2;255;255;255m\n",
      "\u001b[38;2;0;0;255m1480 \u001b[38;2;255;255;255m\n",
      "\u001b[38;2;0;100;0m↓ Rounded Percentil size \u001b[38;2;255;255;255m\n",
      "\u001b[38;2;0;100;0m1480 \u001b[38;2;255;255;255m\n",
      "\u001b[38;2;255;0;0mMean ------> 0.4975336957990004 \u001b[38;2;255;255;255m\n",
      "\u001b[38;2;0;100;0mMedian ----> 0.4972 \u001b[38;2;255;255;255m\n",
      "\u001b[38;2;0;0;255mMode ------> 0.6471 \u001b[38;2;255;255;255m\n"
     ]
    }
   ],
   "source": [
    "#ROWS LENGTH\n",
    "filter_size = abs(floor(len(main_df.query('State in @filter_by_states'))))\n",
    "percentil_size = abs(floor(len(main_df.query('State in @filter_by_states'))/10))\n",
    "#-----------------------------------------------------------------\n",
    "print(color(255, 0, 255, \"↓ Filter size\"))\n",
    "print(color(255, 0, 255, abs(filter_size))) #Filter size by state rows number\n",
    "print(color(0, 0, 255, \"↓ Percentil size\"))\n",
    "print(color(0, 0, 255, abs(percentil_size))) #Percentil size by state rows number\n",
    "print(color(0, 100, 0, \"↓ Rounded Percentil size\"))\n",
    "print (color(0, 100, 0, abs(round((percentil_size * 8 + 1) - (percentil_size * 9 + 1)))))\n",
    "print(color(255, 0, 0, \"Mean ------> {0}\".format(abs(state_df[\"Prec_Prob\"].mean()))))\n",
    "print(color(0, 100, 0, \"Median ----> {0}\".format(abs(state_df[\"Prec_Prob\"].median()))))\n",
    "print(color(0, 0, 255, \"Mode ------> {0}\".format(abs(state_df[\"Prec_Prob\"].mode()[0]))))"
   ]
  },
  {
   "cell_type": "code",
   "execution_count": 7,
   "id": "going-tribute",
   "metadata": {
    "tags": []
   },
   "outputs": [
    {
     "name": "stdout",
     "output_type": "stream",
     "text": [
      "\u001b[38;2;255;0;0mMean ------> 0.34551927981550357 \u001b[38;2;255;255;255m\n",
      "\u001b[38;2;0;100;0mMedian ----> 0.170687613001959 \u001b[38;2;255;255;255m\n",
      "\u001b[38;2;0;0;255mMode ------> 0.0 \u001b[38;2;255;255;255m\n"
     ]
    }
   ],
   "source": [
    "#UPDADE PERCENTILS (10 percentil)\n",
    "#-----------------------------------------------------------------\n",
    "\n",
    "#90% to 100%\n",
    "state_df.at[0:percentil_size,'Prec_Prob'] = np.random.uniform(1.0000, 1.0000, abs(round(percentil_size + 1)))\n",
    "#80% to 90%\n",
    "state_df.at[percentil_size + 1:percentil_size * 2 + 1 ,'Prec_Prob'] = np.random.uniform(1.0000, 1.0000, abs((percentil_size + 1) - (percentil_size * 2 + 2)))\n",
    "#70% to 80%\n",
    "state_df.at[percentil_size * 2 + 1:percentil_size * 3 + 1 ,'Prec_Prob'] = np.random.uniform(0.0000, 1.0000, abs((percentil_size * 2 + 1) - (percentil_size * 3 + 2)))\n",
    "#60% to 70%\n",
    "state_df.at[percentil_size * 3 + 1:percentil_size * 4 + 1 ,'Prec_Prob'] = np.random.uniform(0.0000, 0.6500, abs((percentil_size * 3 + 1) - (percentil_size * 4 + 2)))\n",
    "#50% to 60%\n",
    "state_df.at[percentil_size * 4 + 1:percentil_size * 5 + 1 ,'Prec_Prob'] = np.random.uniform(0.0000, 0.0000, abs((percentil_size * 4 + 1) - (percentil_size * 5 + 2)))\n",
    "#40% to 50%\n",
    "state_df.at[percentil_size * 5 + 1:percentil_size * 6 + 1 ,'Prec_Prob'] = np.random.uniform(0.0000, 0.0000, abs((percentil_size * 5 + 1) - (percentil_size * 6 + 2)))\n",
    "#30% to 40%\n",
    "state_df.at[percentil_size * 6 + 1:percentil_size * 7 + 1 ,'Prec_Prob'] = np.random.uniform(0.0000, 0.0000, abs((percentil_size * 6 + 1) - (percentil_size * 7 + 2)))\n",
    "#20% to 30%\n",
    "state_df.at[percentil_size * 7 + 1:percentil_size * 8 + 1 ,'Prec_Prob'] = np.random.uniform(0.0000, 0.0000, abs((percentil_size * 7 + 1) - (percentil_size * 8 + 2)))\n",
    "#10% to 20%\n",
    "state_df.at[percentil_size * 8 + 1:percentil_size * 9 + 1 ,'Prec_Prob'] = np.random.uniform(0.0000, 0.6500, abs((percentil_size * 8 + 1) - (percentil_size * 9 + 2)))\n",
    "#0% to 10%\n",
    "state_df.at[percentil_size * 9 + 1:percentil_size * 10,'Prec_Prob'] = np.random.uniform(0.0000, 0.6500, abs((percentil_size * 9 + 1) - (percentil_size * 10+1)))\n",
    "#-----------------------------------------------------------------\n",
    "\n",
    "#print(state_df)\n",
    "print(color(255, 0, 0, \"Mean ------> {0}\".format(abs(state_df[\"Prec_Prob\"].mean()))))\n",
    "print(color(0, 100, 0, \"Median ----> {0}\".format(abs(state_df[\"Prec_Prob\"].median()))))\n",
    "print(color(0, 0, 255, \"Mode ------> {0}\".format(abs(state_df[\"Prec_Prob\"].mode()[0]))))"
   ]
  },
  {
   "cell_type": "code",
   "execution_count": 8,
   "id": "conservative-listening",
   "metadata": {
    "tags": []
   },
   "outputs": [],
   "source": [
    "#REPLACE DATAFRAMES\n",
    "#tudin = replacable_main_df.replace((replacable_main_df.loc[replacable_main_df['State'].isin(filter_by_states)])['Prec_Prob'].values, state_df['Prec_Prob'].values)\n",
    "replacable_main_df.loc[replacable_main_df['State'] == filter_by_states[0], 'Prec_Prob'] = state_df['Prec_Prob'].values\n",
    "tudin = replacable_main_df"
   ]
  },
  {
   "cell_type": "code",
   "execution_count": 9,
   "id": "productive-johnson",
   "metadata": {
    "tags": []
   },
   "outputs": [
    {
     "name": "stdout",
     "output_type": "stream",
     "text": [
      "\u001b[38;2;255;0;0m>>> Creating CSV File... \u001b[38;2;255;255;255m\n",
      "\u001b[38;2;34;139;34m>>> CSV File created!!! \u001b[38;2;255;255;255m\n"
     ]
    }
   ],
   "source": [
    "#Get all fucking stuff and do the magic!!! Please!\n",
    "print(color(255,0,0, \">>> Creating CSV File...\"))\n",
    "tudin.to_csv('experiment_dataset_'+ exp_name +'.csv')\n",
    "#-----------------------------------------------------------------\n",
    "print(color(34,139,34, \">>> CSV File created!!!\"))"
   ]
  },
  {
   "cell_type": "code",
   "execution_count": 10,
   "id": "streaming-waste",
   "metadata": {},
   "outputs": [
    {
     "name": "stdout",
     "output_type": "stream",
     "text": [
      "       index  Unnamed: 0  Unnamed: 0.1    UserId Probability         State  \\\n",
      "0          0           0             0  51790442      0,0034  Minas Gerais   \n",
      "1          1           1             1  47323612      0,0010  Minas Gerais   \n",
      "2          2           2             2  10853796      0,9988  Minas Gerais   \n",
      "3          3           3             3  39355792      0,0091  Minas Gerais   \n",
      "4          4           4             4  32592734      0,0002  Minas Gerais   \n",
      "...      ...         ...           ...       ...         ...           ...   \n",
      "14801  57728       57728         57728  42854509      0,0163  Minas Gerais   \n",
      "14802  57729       57729         57729   2968897      0,0272  Minas Gerais   \n",
      "14803  57730       57730         57730  24110233      0,0006  Minas Gerais   \n",
      "14804  57731       57731         57731  18513315      0,0327  Minas Gerais   \n",
      "14805  57732       57732         57732  18617761      0,5746  Minas Gerais   \n",
      "\n",
      "        Region  Prec_Prob  \n",
      "0      Sudeste     1.0000  \n",
      "1      Sudeste     1.0000  \n",
      "2      Sudeste     1.0000  \n",
      "3      Sudeste     1.0000  \n",
      "4      Sudeste     1.0000  \n",
      "...        ...        ...  \n",
      "14801  Sudeste     0.8074  \n",
      "14802  Sudeste     0.4691  \n",
      "14803  Sudeste     0.7669  \n",
      "14804  Sudeste     0.9928  \n",
      "14805  Sudeste     0.7903  \n",
      "\n",
      "[14806 rows x 8 columns]\n"
     ]
    }
   ],
   "source": [
    "print(state_df)"
   ]
  }
 ],
 "metadata": {
  "kernelspec": {
   "display_name": "Python 3",
   "language": "python",
   "name": "python3"
  },
  "language_info": {
   "codemirror_mode": {
    "name": "ipython",
    "version": 3
   },
   "file_extension": ".py",
   "mimetype": "text/x-python",
   "name": "python",
   "nbconvert_exporter": "python",
   "pygments_lexer": "ipython3",
   "version": "3.7.7"
  }
 },
 "nbformat": 4,
 "nbformat_minor": 5
}
